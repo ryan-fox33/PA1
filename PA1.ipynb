{
 "cells": [
  {
   "cell_type": "code",
   "execution_count": 1,
   "id": "63901486",
   "metadata": {},
   "outputs": [
    {
     "name": "stdout",
     "output_type": "stream",
     "text": [
      "Enter a floating point number: 30.4\n",
      "Enter an integer: 5\n"
     ]
    }
   ],
   "source": [
    "float_input=float(input(\"Enter a floating point number: \"))\n",
    "int_input=int(input(\"Enter an integer: \"))"
   ]
  },
  {
   "cell_type": "code",
   "execution_count": 6,
   "id": "09725975",
   "metadata": {},
   "outputs": [
    {
     "name": "stdout",
     "output_type": "stream",
     "text": [
      "The sum is:  35.4\n",
      "The difference is:  25.4\n",
      "The product is:  152.0\n",
      "The product is:  6.08\n",
      "<class 'float'>\n"
     ]
    }
   ],
   "source": [
    "print('The sum is: ', (float_input+int_input))\n",
    "print('The difference is: ', (float_input-int_input))\n",
    "print('The product is: ', (float_input*int_input))\n",
    "print('The product is: ', (float_input/int_input))\n",
    "print(type((float_input/int_input)))"
   ]
  },
  {
   "cell_type": "markdown",
   "id": "ab62c87b",
   "metadata": {},
   "source": [
    "### Ryan Fox, Practice Assignment 1, Fall CS150"
   ]
  },
  {
   "cell_type": "code",
   "execution_count": null,
   "id": "8952b7b4",
   "metadata": {},
   "outputs": [],
   "source": []
  },
  {
   "cell_type": "code",
   "execution_count": null,
   "id": "a1e22a5f",
   "metadata": {},
   "outputs": [],
   "source": []
  }
 ],
 "metadata": {
  "kernelspec": {
   "display_name": "Python 3 (ipykernel)",
   "language": "python",
   "name": "python3"
  },
  "language_info": {
   "codemirror_mode": {
    "name": "ipython",
    "version": 3
   },
   "file_extension": ".py",
   "mimetype": "text/x-python",
   "name": "python",
   "nbconvert_exporter": "python",
   "pygments_lexer": "ipython3",
   "version": "3.9.12"
  }
 },
 "nbformat": 4,
 "nbformat_minor": 5
}
